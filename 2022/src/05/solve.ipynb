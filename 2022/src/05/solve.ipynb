{
  "metadata": {
    "language_info": {
      "codemirror_mode": {
        "name": "python",
        "version": 3
      },
      "file_extension": ".py",
      "mimetype": "text/x-python",
      "name": "python",
      "nbconvert_exporter": "python",
      "pygments_lexer": "ipython3",
      "version": "3.8"
    },
    "kernelspec": {
      "name": "python",
      "display_name": "Python (Pyodide)",
      "language": "python"
    }
  },
  "nbformat_minor": 4,
  "nbformat": 4,
  "cells": [
    {
      "cell_type": "code",
      "execution_count": 10,
      "source": [
        "import queue\n",
        "\n",
        "f = open('input.txt', 'r')\n",
        "sr, ir = f.read().split('\\n\\n')\n",
        "\n",
        "lines = sr.split('\\n')\n",
        "\n",
        "stacks = list()\n",
        "\n",
        "CRATE_SPACE = 4\n",
        "\n",
        "#init stacks crane9000\n",
        "for i in lines[::-1][:1]:\n",
        "    for j in range(0, len(i), 4):\n",
        "        stacks.append(queue.LifoQueue())\n",
        "        \n",
        "for i in lines[::-1][1:]:\n",
        "    for j in range(0, len(i), CRATE_SPACE):\n",
        "        if i[j] == '[':\n",
        "            stacks[int(j/CRATE_SPACE)].put(i[j+1:j+2])\n",
        "            \n",
        "            \n",
        "#parse instruction\n",
        "instructions = [(int(line.split()[1]), int(line.split()[3]) - 1,  int(line.split()[5]) - 1) for line in ir.split('\\n')]\n",
        "\n",
        "\n",
        "#moving\n",
        "for step in instructions:\n",
        "    grabs = queue.LifoQueue()\n",
        "    for m in range(step[0]):\n",
        "        \n",
        "        mv_crate = stacks[step[1]].get()\n",
        "        grabs.put(mv_crate)\n",
        "\n",
        "    for m in range(grabs.qsize()):\n",
        "        stacks[step[2]].put(grabs.get())"
      ],
      "outputs": [],
      "metadata": {
        "trusted": true
      }
    },
    {
      "cell_type": "code",
      "execution_count": 11,
      "source": [
        "#print stacks\n",
        "answer = ''\n",
        "for i in stacks:\n",
        "    answer += i.get()\n",
        "answer\n"
      ],
      "outputs": [
        {
          "output_type": "execute_result",
          "data": {
            "text/plain": [
              "'WDLPFNNNB'"
            ]
          },
          "metadata": {},
          "execution_count": 11
        }
      ],
      "metadata": {
        "trusted": true
      }
    },
    {
      "cell_type": "code",
      "execution_count": null,
      "source": [],
      "outputs": [],
      "metadata": {}
    }
  ]
}