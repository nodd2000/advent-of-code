{
  "metadata": {
    "language_info": {
      "codemirror_mode": {
        "name": "python",
        "version": 3
      },
      "file_extension": ".py",
      "mimetype": "text/x-python",
      "name": "python",
      "nbconvert_exporter": "python",
      "pygments_lexer": "ipython3",
      "version": "3.8"
    },
    "kernelspec": {
      "name": "python",
      "display_name": "Python (Pyodide)",
      "language": "python"
    }
  },
  "nbformat_minor": 4,
  "nbformat": 4,
  "cells": [
    {
      "cell_type": "code",
      "execution_count": 43,
      "source": [
        "f = open('input.txt', 'r')\n",
        "a = f.read().split('\\n')\n",
        "\n",
        "\n",
        "assignments_raw = [i.split(',') for i in a]\n",
        "\n",
        "assignments = [([int(i) for i in i[0].split('-')], [ int(i) for i in i[1].split('-')]) for i in assignments_raw]\n"
      ],
      "outputs": [],
      "metadata": {
        "trusted": true
      }
    },
    {
      "cell_type": "code",
      "execution_count": 44,
      "source": [
        "\n",
        "\n",
        "def a_contains_b(a, b):\n",
        "    return a[0] <= b[0] and a[1] >= b[1]\n",
        "\n",
        "def a_overlaps_b(a, b):\n",
        "    return a[0] <= b[0] and a[1] >= b[0]\n",
        "\n",
        "cnt = 0\n",
        "\n",
        "for i in assignments:\n",
        "    a = i[0]\n",
        "    b = i[1]\n",
        "    \n",
        "    if a_contains_b(a, b) or a_overlaps_b(a, b):\n",
        "        cnt += 1\n",
        "    elif a_contains_b(b, a) or a_overlaps_b(b, a):\n",
        "        cnt += 1\n",
        "cnt"
      ],
      "outputs": [
        {
          "output_type": "execute_result",
          "data": {
            "text/plain": [
              "835"
            ]
          },
          "metadata": {},
          "execution_count": 44
        }
      ],
      "metadata": {
        "trusted": true
      }
    }
  ]
}