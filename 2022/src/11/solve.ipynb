{
  "metadata": {
    "language_info": {
      "name": "python",
      "version": "3.9.6",
      "mimetype": "text/x-python",
      "codemirror_mode": {
        "name": "ipython",
        "version": 3
      },
      "pygments_lexer": "ipython3",
      "nbconvert_exporter": "python",
      "file_extension": ".py"
    },
    "kernelspec": {
      "name": "python3",
      "display_name": "Python 3.9.6 64-bit"
    },
    "interpreter": {
      "hash": "397704579725e15f5c7cb49fe5f0341eb7531c82d19f2c29d197e8b64ab5776b"
    }
  },
  "nbformat_minor": 4,
  "nbformat": 4,
  "cells": [
    {
      "cell_type": "code",
      "execution_count": 4,
      "source": [
        "#modular-aarithmetic\n",
        "\n",
        "from math import gcd\n",
        "from functools import reduce\n",
        "\n",
        "f = open('input.txt', 'r')\n",
        "rows = f.read().split('\\n')\n",
        "rows = list(filter(lambda i: i!='', rows))\n",
        "WIDTH = 6\n",
        "\n",
        "\n",
        "ROUNDS = 10000\n",
        "\n",
        "P_EN = 0\n",
        "print_ = lambda x: not(P_EN) or print(x)\n",
        "        \n",
        "def lcm(a, b):\n",
        "    return abs(a*b) // gcd(a, b)\n",
        "        \n",
        "monkeys_raw = list()\n",
        "[monkeys_raw.append(rows[i: i + WIDTH]) for i in range(0, len(rows), WIDTH)]\n",
        "    \n",
        "monkeys = list()\n",
        "\n",
        "n = 0\n",
        "for i in monkeys_raw:\n",
        "    monkey_dict = {}\n",
        "    monkey_dict['id'] = n\n",
        "    monkey_dict['inspects_num'] = 0\n",
        "    monkey_dict['items'] = list (map(lambda x: int(x), i[1:][0].replace('  ', '')[16:].split(',') ) )\n",
        "    monkey_dict['operation'] = i[1:][1].replace('  ', '')[11:][6:]\n",
        "    monkey_dict['test'] = int(i[1:][2].replace('  ', '').split()[-1])\n",
        "    monkey_dict['to_monkey_if_t'] = int(i[1:][3].replace('  ', '').split()[-1])\n",
        "    monkey_dict['to_monkey_if_f'] = int(i[1:][4].replace('  ', '').split()[-1])\n",
        "    monkeys.append(monkey_dict)             \n",
        "    n += 1\n",
        "\n",
        "\n",
        "\n",
        "\n",
        "# part I\n",
        "# less_worry = 3 \n",
        "\n",
        "# part II\n",
        "dividers = list(map(lambda x: x.get('test'), monkeys))\n",
        "lcm_all = reduce(lambda x, y: lcm(x,y), dividers)\n",
        "less_worry = lcm_all \n",
        "\n",
        "\n",
        "for round in range(ROUNDS):\n",
        "    for monkey in monkeys:\n",
        "        print_(f'\\nMonkey { monkey.get(\"id\") }:')\n",
        "        operation_to_eval = monkey.get('operation')\n",
        "        \n",
        "        items = monkey.get('items')\n",
        "        \n",
        "        for item_id in range(len(items)):\n",
        "            \n",
        "            monkey['inspects_num'] += 1\n",
        "            \n",
        "            item = items[item_id]\n",
        "            print_(f'Monkey inspects an item with a worry level of {item}.')\n",
        "            old = item\n",
        "            new = eval(operation_to_eval)\n",
        "            print_(f'Worry level is {item} {operation_to_eval[4:]} to {new}.')\n",
        "            \n",
        "            \n",
        "            new = new % less_worry\n",
        "            \n",
        "            print_(f'Monkey gets bored with item. Worry level is divided by {less_worry} to {new}.')\n",
        "            \n",
        "            is_divisible = new % monkey.get(\"test\") == 0\n",
        "            print_(f'Current worry level is { \"\" if is_divisible else \"not \" }divisible by { monkey.get(\"test\") }.')\n",
        "            \n",
        "            to_monkey = monkey.get(\"to_monkey_if_t\") if is_divisible else monkey.get(\"to_monkey_if_f\")\n",
        "            \n",
        "            \n",
        "            monkeys[to_monkey].get('items').append(new)\n",
        "            print_(f'Item with worry level {new} is thrown to monkey { to_monkey }.')\n",
        "        \n",
        "        monkey['items'] = []\n",
        "            \n",
        "        \n",
        "inspects = list(map(lambda x: x.get('inspects_num'), monkeys))\n",
        "\n",
        "inspects\n",
        "mult = 1\n",
        "for i in range(2):\n",
        "    localmax = max(inspects)\n",
        "    mult *= localmax\n",
        "    inspects.remove(localmax)\n",
        "mult\n",
        "\n"
      ],
      "outputs": [
        {
          "output_type": "execute_result",
          "data": {
            "text/plain": [
              "18085004878"
            ]
          },
          "metadata": {},
          "execution_count": 4
        }
      ],
      "metadata": {
        "trusted": true
      }
    }
  ]
}