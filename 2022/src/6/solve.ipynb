{
  "metadata": {
    "language_info": {
      "name": "python",
      "version": "3.9.6",
      "mimetype": "text/x-python",
      "codemirror_mode": {
        "name": "ipython",
        "version": 3
      },
      "pygments_lexer": "ipython3",
      "nbconvert_exporter": "python",
      "file_extension": ".py"
    },
    "kernelspec": {
      "name": "python3",
      "display_name": "Python 3.9.6 64-bit"
    },
    "interpreter": {
      "hash": "397704579725e15f5c7cb49fe5f0341eb7531c82d19f2c29d197e8b64ab5776b"
    }
  },
  "nbformat_minor": 4,
  "nbformat": 4,
  "cells": [
    {
      "cell_type": "code",
      "execution_count": 3,
      "source": [
        "f = open('input.txt', 'r')\n",
        "\n",
        "datastream = f.read()\n",
        "marker = list()\n",
        "marker_pos = 0\n",
        "\n",
        "for char in datastream:    \n",
        "    marker_pos += 1\n",
        "    \n",
        "    if char in marker:\n",
        "        marker = marker[marker.index(char) + 1:]\n",
        "    \n",
        "    marker.append(char)\n",
        "    if len(marker) == 14:\n",
        "        break\n",
        "    \n",
        "print(marker_pos)\n",
        "print(marker)"
      ],
      "outputs": [
        {
          "output_type": "stream",
          "name": "stdout",
          "text": [
            "3774\n",
            "['t', 'f', 'm', 'z', 'd', 'w', 'n', 'p', 'v', 'b', 'j', 'r', 's', 'h']\n"
          ]
        }
      ],
      "metadata": {
        "trusted": true
      }
    }
  ]
}