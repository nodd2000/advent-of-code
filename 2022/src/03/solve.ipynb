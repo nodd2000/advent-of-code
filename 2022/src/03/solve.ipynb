{
  "metadata": {
    "language_info": {
      "codemirror_mode": {
        "name": "python",
        "version": 3
      },
      "file_extension": ".py",
      "mimetype": "text/x-python",
      "name": "python",
      "nbconvert_exporter": "python",
      "pygments_lexer": "ipython3",
      "version": "3.8"
    },
    "kernelspec": {
      "name": "python",
      "display_name": "Python (Pyodide)",
      "language": "python"
    }
  },
  "nbformat_minor": 4,
  "nbformat": 4,
  "cells": [
    {
      "cell_type": "code",
      "execution_count": 41,
      "source": [
        "f = open('input.txt', 'r')\n",
        "rucksacks_raw = f.read().split('\\n')\n",
        "\n",
        "rucksacks = []\n",
        "\n",
        "\n",
        "\n",
        "def to_num(item):\n",
        "    uppercase_const = 38\n",
        "    lowercase_const = 96\n",
        "    \n",
        "    return int(ord(item) - (uppercase_const if item.isupper() else lowercase_const))\n",
        "\n",
        "\n",
        "for r in rucksacks_raw:\n",
        "    r_size = int(len(r)/2)\n",
        "    rucksacks.append((r[0:r_size], r[r_size:]))\n"
      ],
      "outputs": [],
      "metadata": {
        "trusted": true
      }
    },
    {
      "cell_type": "code",
      "execution_count": 9,
      "source": [
        "priorities_sum = 0\n",
        "for r in rucksacks:\n",
        "    priority_item = set()\n",
        "    for item in r[0]:\n",
        "        \n",
        "        if item in r[1]:\n",
        "            priority_item.add(to_num(item))\n",
        "    priorities_sum += sum(priority_item)\n",
        "priorities_sum"
      ],
      "outputs": [
        {
          "output_type": "execute_result",
          "data": {
            "text/plain": [
              "7674"
            ]
          },
          "metadata": {},
          "execution_count": 9
        }
      ],
      "metadata": {
        "trusted": true
      }
    },
    {
      "cell_type": "code",
      "execution_count": 42,
      "source": [
        "rucksack_grouped = []\n",
        "sum_pr = 0\n",
        "for i in range(0, len(rucksacks), 3):\n",
        "    rucksack_grouped.append((rucksacks[i], rucksacks[i + 1], rucksacks[i + 2]))\n",
        "\n",
        "for g in rucksack_grouped:\n",
        "    set1 = set([to_num(i) for i in g[0][0]+ g[0][1]])\n",
        "    set2 = set([to_num(i) for i in g[1][0]+ g[1][1]])\n",
        "    set3 = set([to_num(i) for i in g[2][0]+ g[2][1]])\n",
        "    sum_pr += set1.intersection(set2, set3).pop()\n",
        "sum_pr"
      ],
      "outputs": [
        {
          "output_type": "execute_result",
          "data": {
            "text/plain": [
              "2805"
            ]
          },
          "metadata": {},
          "execution_count": 42
        }
      ],
      "metadata": {
        "trusted": true
      }
    },
    {
      "cell_type": "code",
      "execution_count": 11,
      "source": [
        "a  = ('HNCNJHCWJRRLqNJ', 'WlfrrrwsmlwGmmf')\n"
      ],
      "outputs": [],
      "metadata": {
        "trusted": true
      }
    },
    {
      "cell_type": "code",
      "execution_count": 38,
      "source": [
        "s = set([to_num(i)for i in a[0]+ a[1]])\n",
        "\n",
        "\n",
        "s.pop()"
      ],
      "outputs": [
        {
          "output_type": "execute_result",
          "data": {
            "text/plain": [
              "33"
            ]
          },
          "metadata": {},
          "execution_count": 38
        }
      ],
      "metadata": {
        "trusted": true
      }
    },
    {
      "cell_type": "code",
      "execution_count": 20,
      "source": [
        "s"
      ],
      "outputs": [
        {
          "output_type": "execute_result",
          "data": {
            "text/plain": [
              "{17, 29, 34, 36, 38, 40, 44, 49}"
            ]
          },
          "metadata": {},
          "execution_count": 20
        }
      ],
      "metadata": {
        "trusted": true
      }
    }
  ]
}