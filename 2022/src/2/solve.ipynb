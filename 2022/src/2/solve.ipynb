{
  "metadata": {
    "language_info": {
      "codemirror_mode": {
        "name": "python",
        "version": 3
      },
      "file_extension": ".py",
      "mimetype": "text/x-python",
      "name": "python",
      "nbconvert_exporter": "python",
      "pygments_lexer": "ipython3",
      "version": "3.8"
    },
    "kernelspec": {
      "name": "python",
      "display_name": "Python (Pyodide)",
      "language": "python"
    }
  },
  "nbformat_minor": 4,
  "nbformat": 4,
  "cells": [
    {
      "cell_type": "code",
      "execution_count": 93,
      "source": [
        "f = open('input.txt', 'r')\n",
        "a = f.read().split('\\n')\n",
        "strategy = [i.split(' ') for i in a]\n",
        "easy_dict = {'A': 'R', 'X': 'R', 'B': 'P', 'Y': 'P', 'C': 'S', 'Z': 'S'}\n",
        "\n",
        "advice_dict = {'X': 'L', 'Y': 'D', 'Z': 'W'}\n",
        "easy_dict2 = {'A': 'R', 'B': 'P', 'C': 'S'}\n",
        "\n",
        "defeats_graph = {'R': 'S', 'S': 'P', 'P': 'R'}\n",
        "lose_graph = {}\n",
        "for k, v in defeats_graph.items():\n",
        "    lose_graph[v] = k\n",
        "score_shape_dict = {'R': 1, 'P': 2, 'S': 3}\n",
        "score_outcome_dict = {'L': 0, 'D': 3, 'W': 6}"
      ],
      "outputs": [],
      "metadata": {
        "trusted": true
      }
    },
    {
      "cell_type": "code",
      "execution_count": 71,
      "source": [
        "def are_you_winner(opponent, you):\n",
        "    if opponent == you:\n",
        "        return 'D'\n",
        "    elif defeats_graph.get(opponent) == you:\n",
        "        return 'L'\n",
        "    else:\n",
        "        return 'W'\n",
        "    "
      ],
      "outputs": [],
      "metadata": {
        "trusted": true
      }
    },
    {
      "cell_type": "code",
      "execution_count": 86,
      "source": [
        "def choose_shape(opponent, advice):\n",
        "    if advice == 'D':\n",
        "        return opponent\n",
        "    elif advice == 'L':\n",
        "        return defeats_graph.get(opponent)\n",
        "    else:\n",
        "        return lose_graph.get(opponent)\n",
        "    "
      ],
      "outputs": [],
      "metadata": {
        "trusted": true
      }
    },
    {
      "cell_type": "code",
      "execution_count": 72,
      "source": [
        "total_score = 0\n",
        "for round in strategy:    \n",
        "    opponent = easy_dict.get(round[0])\n",
        "    you = easy_dict.get(round[1])\n",
        "\n",
        "    your_score = score_shape_dict.get(you) + score_outcome_dict.get(are_you_winner(opponent, you))\n",
        "    total_score += your_score\n",
        "total_score"
      ],
      "outputs": [
        {
          "output_type": "execute_result",
          "data": {
            "text/plain": [
              "10310"
            ]
          },
          "metadata": {},
          "execution_count": 72
        }
      ],
      "metadata": {
        "trusted": true
      }
    },
    {
      "cell_type": "code",
      "execution_count": 94,
      "source": [
        "total_score = 0\n",
        "for round in strategy:    \n",
        "    opponent = easy_dict2.get(round[0])\n",
        "    advice = advice_dict.get(round[1])\n",
        "\n",
        "    your_score = score_shape_dict.get(choose_shape(opponent, advice)) + score_outcome_dict.get(advice)\n",
        "    total_score += your_score\n",
        "total_score"
      ],
      "outputs": [
        {
          "output_type": "execute_result",
          "data": {
            "text/plain": [
              "14859"
            ]
          },
          "metadata": {},
          "execution_count": 94
        }
      ],
      "metadata": {
        "trusted": true
      }
    }
  ]
}