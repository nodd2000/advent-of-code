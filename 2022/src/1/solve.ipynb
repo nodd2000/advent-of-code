{
  "metadata": {
    "language_info": {
      "codemirror_mode": {
        "name": "python",
        "version": 3
      },
      "file_extension": ".py",
      "mimetype": "text/x-python",
      "name": "python",
      "nbconvert_exporter": "python",
      "pygments_lexer": "ipython3",
      "version": "3.8"
    },
    "kernelspec": {
      "name": "python",
      "display_name": "Python (Pyodide)",
      "language": "python"
    }
  },
  "nbformat_minor": 4,
  "nbformat": 4,
  "cells": [
    {
      "cell_type": "code",
      "execution_count": 28,
      "source": [
        "f = open('input.txt', 'r')"
      ],
      "outputs": [],
      "metadata": {
        "trusted": true
      }
    },
    {
      "cell_type": "code",
      "execution_count": 29,
      "source": [
        "a = f.read().split('\\n\\n')"
      ],
      "outputs": [],
      "metadata": {
        "trusted": true
      }
    },
    {
      "cell_type": "code",
      "execution_count": 64,
      "source": [
        "elves = list()\n",
        "for i in range(len(a)):\n",
        "    elves.append(sum([int(j) for j in a[i].split('\\n')]))"
      ],
      "outputs": [],
      "metadata": {
        "trusted": true
      }
    },
    {
      "cell_type": "code",
      "execution_count": 65,
      "source": [
        "max(elves)"
      ],
      "outputs": [
        {
          "output_type": "execute_result",
          "data": {
            "text/plain": [
              "66306"
            ]
          },
          "metadata": {},
          "execution_count": 65
        }
      ],
      "metadata": {
        "trusted": true
      }
    },
    {
      "cell_type": "code",
      "execution_count": 66,
      "source": [
        "top3sum = 0\n",
        "for i in range(3):\n",
        "    localmax = max(elves)\n",
        "    top3sum += localmax\n",
        "    print(localmax)\n",
        "    elves.remove(localmax)"
      ],
      "outputs": [
        {
          "output_type": "stream",
          "name": "stdout",
          "text": [
            "66306\n",
            "64532\n",
            "64454\n"
          ]
        }
      ],
      "metadata": {
        "trusted": true
      }
    },
    {
      "cell_type": "code",
      "execution_count": 67,
      "source": [
        "top3sum"
      ],
      "outputs": [
        {
          "output_type": "execute_result",
          "data": {
            "text/plain": [
              "195292"
            ]
          },
          "metadata": {},
          "execution_count": 67
        }
      ],
      "metadata": {
        "trusted": true
      }
    },
    {
      "cell_type": "code",
      "execution_count": null,
      "source": [],
      "outputs": [],
      "metadata": {}
    }
  ]
}