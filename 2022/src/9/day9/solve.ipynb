{
  "metadata": {
    "language_info": {
      "name": "python",
      "version": "3.9.6",
      "mimetype": "text/x-python",
      "codemirror_mode": {
        "name": "ipython",
        "version": 3
      },
      "pygments_lexer": "ipython3",
      "nbconvert_exporter": "python",
      "file_extension": ".py"
    },
    "kernelspec": {
      "name": "python3",
      "display_name": "Python 3.9.6 64-bit"
    },
    "interpreter": {
      "hash": "397704579725e15f5c7cb49fe5f0341eb7531c82d19f2c29d197e8b64ab5776b"
    }
  },
  "nbformat_minor": 4,
  "nbformat": 4,
  "cells": [
    {
      "cell_type": "code",
      "execution_count": 6,
      "source": [
        "import matplotlib.pyplot as plt\n",
        "from math import sqrt\n",
        "\n",
        "f = open('input.txt', 'r')\n",
        "rows = f.read().split('\\n')\n",
        "\n",
        "movements = []\n",
        "\n",
        "for line in rows:\n",
        "    p = line.split()\n",
        "    [movements.append(p[0]) for mv in range(int(p[1]))]\n",
        "        \n",
        "INIT_POINT = (0,0)\n",
        "\n",
        "KNOTS_NUMBER = 10\n",
        "\n",
        "rope = [INIT_POINT for i in range(KNOTS_NUMBER)]\n",
        "\n",
        "t_visited_points = set()\n",
        "t_visited_points.add(INIT_POINT)\n",
        "\n",
        "\n",
        "def plot_rope(rope):\n",
        "    \n",
        "    x_rope = [i[0] for i in rope]\n",
        "    y_rope = [i[1] for i in rope]\n",
        "\n",
        "    plt.xlabel('x - axis')\n",
        "    plt.ylabel('y - axis')\n",
        "    \n",
        "    plt.plot(x_rope, y_rope, color='green', linestyle='dashed', linewidth = 1,\n",
        "             marker='o', markerfacecolor='blue', markersize=5)\n",
        "      \n",
        "    plt.show()\n",
        "\n",
        "\n",
        "def move_head(head, mv):\n",
        "    \n",
        "    if mv == 'R':\n",
        "        head_ = (head[0] + 1, head[1])\n",
        "    elif mv == 'L':\n",
        "        head_ = (head[0] - 1, head[1])\n",
        "    elif mv == 'U':\n",
        "        head_ = (head[0], head[1] + 1)\n",
        "    elif mv == 'D':\n",
        "        head_ = (head[0], head[1] - 1)\n",
        "    \n",
        "    return head_\n",
        "\n",
        "\n",
        "def get_distance(head, tail):\n",
        "    return sqrt((head[0] - tail[0]) ** 2 + (head[1] - tail[1]) ** 2)\n",
        "\n",
        "\n",
        "def move_tail_toward_head_x(head, tail):\n",
        "    return (tail[0] + 1, tail[1]) if head[0] - tail[0] > 0 else (tail[0] - 1, tail[1])\n",
        "\n",
        "\n",
        "def move_tail_toward_head_y(head, tail):\n",
        "    return (tail[0], tail[1] + 1) if head[1] - tail[1] > 0 else (tail[0], tail[1] - 1)\n",
        "\n",
        "\n",
        "def pull_tail(head, tail):\n",
        "    \n",
        "    d = get_distance(head, tail)\n",
        "    \n",
        "    if d == 2:\n",
        "        if abs(head[0] - tail[0]) == 2:\n",
        "            tail = move_tail_toward_head_x(head, tail)\n",
        "        else:\n",
        "            tail = move_tail_toward_head_y(head, tail)\n",
        "\n",
        "    # elif d == sqrt(5):\n",
        "    elif d > sqrt(2):\n",
        "        tail = move_tail_toward_head_x(head, tail)\n",
        "        tail = move_tail_toward_head_y(head, tail)\n",
        "              \n",
        "    return tail\n",
        "\n",
        "\n",
        "for mv in movements:\n",
        "    rope[0] = move_head(rope[0], mv)\n",
        "    for i in range(1, KNOTS_NUMBER):\n",
        "        rope[i] = pull_tail(rope[i - 1], rope[i])\n",
        "        # plot_rope(rope)\n",
        "        \n",
        "    t_visited_points.add(rope[KNOTS_NUMBER - 1])    \n",
        "\n",
        "len(t_visited_points)\n"
      ],
      "outputs": [
        {
          "output_type": "execute_result",
          "data": {
            "text/plain": [
              "2331"
            ]
          },
          "metadata": {},
          "execution_count": 6
        }
      ],
      "metadata": {
        "trusted": true
      }
    }
  ]
}