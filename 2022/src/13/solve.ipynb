{
  "metadata": {
    "language_info": {
      "name": "python",
      "version": "3.9.6",
      "mimetype": "text/x-python",
      "codemirror_mode": {
        "name": "ipython",
        "version": 3
      },
      "pygments_lexer": "ipython3",
      "nbconvert_exporter": "python",
      "file_extension": ".py"
    },
    "kernelspec": {
      "name": "python3",
      "display_name": "Python 3.9.6 64-bit"
    },
    "interpreter": {
      "hash": "397704579725e15f5c7cb49fe5f0341eb7531c82d19f2c29d197e8b64ab5776b"
    }
  },
  "nbformat_minor": 4,
  "nbformat": 4,
  "cells": [
    {
      "cell_type": "code",
      "execution_count": 19,
      "source": [
        "#comparator\n",
        "\n",
        "import json\n",
        "\n",
        "f = open('input.txt', 'r')\n",
        "rows = f.read().split('\\n\\n')\n",
        "pairs = [list(map(lambda x: json.loads(x), p.split('\\n'))) for p in rows]\n",
        "\n",
        "P_EN = 0\n",
        "print_ = lambda x: not(P_EN) or print(x)\n",
        "\n",
        "\n",
        "def check_pair(left_input, right_input, level, deep=True):\n",
        "    \n",
        "    result = None\n",
        "    \n",
        "    tab = \"  \" * level\n",
        "    tabp = \"  \" * (level + 1)\n",
        "        \n",
        "    for j in range( max(len(left_input), len(right_input) )):\n",
        "        \n",
        "        if deep:\n",
        "            left_side = left_input[j] if len(left_input[j:j+1]) > 0 else None\n",
        "            right_side = right_input[j] if len(right_input[j:j+1]) > 0 else None\n",
        "        else:\n",
        "            left_side = left_input\n",
        "            right_side = right_input\n",
        "            \n",
        "        print_(f'{tab}- Compare {left_side} vs {right_side}')\n",
        "        \n",
        "        if type(left_side) == list and type(right_side) == list:\n",
        "            result = check_pair(left_side, right_side, level + 1)\n",
        "            \n",
        "        elif type(left_side) == int and type(right_side) == int:\n",
        "            if left_side < right_side:\n",
        "                print_(f'{tabp}- Left side is smaller, so inputs are in the right order')\n",
        "                result = True\n",
        "            elif left_side > right_side:\n",
        "                print_(f'{tabp}- Right side is smaller, so inputs are not in the right order')\n",
        "                result = False\n",
        "            \n",
        "        elif type(left_side) == int and type(right_side) == list:\n",
        "            print_(f'{tabp}- Mixed types; convert left to {[left_side]} and retry comparison')\n",
        "            result = check_pair([left_side], right_side, level + 1, deep=False)\n",
        "\n",
        "        elif type(right_side) == int and type(left_side) == list:\n",
        "            print_(f'{tabp}- Mixed types; convert right to {[right_side]} and retry comparison')\n",
        "            result = check_pair(left_side, [right_side], level + 1, deep=False)\n",
        "        \n",
        "        elif left_side is None:\n",
        "            print_(f'{tabp}- Left side ran out of items, so inputs are in the right order')\n",
        "            result = True\n",
        "        \n",
        "        elif right_side is None:\n",
        "            print_(f'{tabp}- Right side ran out of items, so inputs are not in the right order')\n",
        "            result = False\n",
        "        \n",
        "        if result is not None:\n",
        "            break\n",
        "        \n",
        "    return result\n",
        "\n",
        "\n",
        "# part I\n",
        "i = 1\n",
        "right_orders = []\n",
        "\n",
        "for p in pairs:\n",
        "    print_(f'\\n== Pair {i} == \\n- Compare {p[0]} vs {p[1]}')\n",
        "    result = check_pair(p[0], p[1], 1)  # p[0] < p[1] ?\n",
        "    if result:\n",
        "        right_orders.append(i)\n",
        "    i += 1\n",
        "    \n",
        "sum(right_orders)\n",
        "\n",
        "# part II\n",
        "class Packet:\n",
        "    \n",
        "    def __init__(self, l):\n",
        "        self.body = l\n",
        "        \n",
        "    def __repr__(self):\n",
        "        return f'{self.body}'\n",
        "\n",
        "    def __lt__(self, other):\n",
        "        return check_pair(self.body, other.body, 1)\n",
        "    \n",
        "    def __eq__(self, other):\n",
        "        return self.body == other.body\n",
        "\n",
        "\n",
        "packets = []\n",
        "[packets.extend([Packet(i), Packet(j)]) for i, j in pairs]\n",
        "\n",
        "p1, p2 = Packet([[2]]), Packet([[6]])\n",
        "packets.extend([p1, p2])\n",
        "packets.sort()\n",
        "\n",
        "(packets.index(p1) + 1) * (packets.index(p2) + 1)\n"
      ],
      "outputs": [
        {
          "output_type": "execute_result",
          "data": {
            "text/plain": [
              "24180"
            ]
          },
          "metadata": {},
          "execution_count": 19
        }
      ],
      "metadata": {
        "trusted": true
      }
    }
  ]
}