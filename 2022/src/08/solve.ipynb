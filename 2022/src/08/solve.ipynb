{
  "metadata": {
    "language_info": {
      "codemirror_mode": {
        "name": "python",
        "version": 3
      },
      "file_extension": ".py",
      "mimetype": "text/x-python",
      "name": "python",
      "nbconvert_exporter": "python",
      "pygments_lexer": "ipython3",
      "version": "3.8"
    },
    "kernelspec": {
      "name": "python",
      "display_name": "Python (Pyodide)",
      "language": "python"
    }
  },
  "nbformat_minor": 4,
  "nbformat": 4,
  "cells": [
    {
      "cell_type": "code",
      "execution_count": 21,
      "source": [
        "import numpy as np\n",
        "from math import inf\n",
        "\n",
        "f = open('input.txt', 'r')\n",
        "rows = f.read().split('\\n')\n",
        "\n",
        "map_ = []\n",
        "\n",
        "for i in rows:\n",
        "    map_.append([ int(j) for j in i])\n",
        "\n",
        "\n",
        "map_np = np.array(map_, int)\n",
        "\n",
        "cnt_visible = 0\n",
        "for i in range(len(map_np)):\n",
        "    for j in range(len(map_np[i])):\n",
        "        \n",
        "        top = map_np[:i,j]\n",
        "        bottom = map_np[i+1:,j]\n",
        "        right = map_np[i,j+1:]\n",
        "        left = map_np[i, :j]\n",
        "        \n",
        "        if top.size == 0 or bottom.size == 0 or right.size == 0 or left.size == 0:\n",
        "            cnt_visible += 1\n",
        "           \n",
        "        elif (max(top) if top.size != 0 else +inf) < map_np[i,j] :\n",
        "            cnt_visible += 1\n",
        "                \n",
        "        elif (max(bottom) if bottom.size != 0 else +inf) < map_np[i,j] :\n",
        "            cnt_visible += 1\n",
        "        \n",
        "        elif (max(right) if right.size != 0 else +inf) < map_np[i,j] :\n",
        "            cnt_visible += 1\n",
        "                \n",
        "        elif (max(left) if left.size != 0 else +inf) < map_np[i,j] :\n",
        "            cnt_visible += 1\n",
        "        \n",
        "cnt_visible\n",
        "\n",
        "# PART II\n",
        "\n",
        "def get_cnt_tree(array1d, element):\n",
        "    max_ = 0\n",
        "    trees = 0\n",
        "    if array1d.size != 0:\n",
        "        for t in array1d:\n",
        "            if t >= element:\n",
        "                trees +=1\n",
        "                break\n",
        "            max_ = t\n",
        "            trees += 1\n",
        "    return trees\n",
        "\n",
        "\n",
        "max_score = 0\n",
        "for i in range(len(map_np)):\n",
        "    for j in range(len(map_np[i])):\n",
        "        \n",
        "        top = map_np[:i,j][::-1]\n",
        "        bottom = map_np[i+1:,j]\n",
        "        right = map_np[i,j+1:]\n",
        "        left = map_np[i, :j][::-1]\n",
        "        \n",
        "        top_tree = get_cnt_tree(top, map_np[i,j])        \n",
        "        bottom_tree = get_cnt_tree(bottom, map_np[i,j])\n",
        "        right_tree = get_cnt_tree(right, map_np[i,j])\n",
        "        left_tree = get_cnt_tree(left, map_np[i,j])\n",
        "        \n",
        "        score = top_tree * bottom_tree * left_tree * right_tree\n",
        "        \n",
        "        if score > max_score:\n",
        "            max_score = score\n",
        "        \n",
        "max_score\n"
      ],
      "outputs": [
        {
          "output_type": "execute_result",
          "data": {
            "text/plain": [
              "385112"
            ]
          },
          "metadata": {},
          "execution_count": 21
        }
      ],
      "metadata": {
        "trusted": true
      }
    }
  ]
}