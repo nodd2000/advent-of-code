{
  "metadata": {
    "language_info": {
      "codemirror_mode": {
        "name": "python",
        "version": 3
      },
      "file_extension": ".py",
      "mimetype": "text/x-python",
      "name": "python",
      "nbconvert_exporter": "python",
      "pygments_lexer": "ipython3",
      "version": "3.8"
    },
    "kernelspec": {
      "name": "python",
      "display_name": "Python (Pyodide)",
      "language": "python"
    }
  },
  "nbformat_minor": 4,
  "nbformat": 4,
  "cells": [
    {
      "cell_type": "code",
      "execution_count": 99,
      "source": [
        "f = open('input.txt', 'r')\n",
        "rows = f.read().split('\\n')\n",
        "\n",
        "CYCLE_DURATION = {'noop': 1, 'addx': 2}\n",
        "INIT_CYCLE = 20\n",
        "PER_EACH_CYCLE = 40\n",
        "CRT_WIDE = 40\n",
        "\n",
        "register_value = 1\n",
        "signal_strengths = list()\n",
        "punched_tape = list()\n",
        "\n",
        "for cmd in rows:\n",
        "    for i in range(CYCLE_DURATION.get(cmd.split()[0])):\n",
        "        punched_tape.append(0) if i == 0 else punched_tape.append(int(cmd.split()[1]))\n",
        "\n",
        "cycle = 0\n",
        "crt_row = ''\n",
        "sprite_position = lambda x: [x - 1, x, x + 1] \n",
        "\n",
        "for v in punched_tape:\n",
        "    cycle += 1    \n",
        "    crt_row += '#' if (cycle - 1) % PER_EACH_CYCLE in sprite_position(register_value) else '.'\n",
        "    \n",
        "    if cycle == INIT_CYCLE or (cycle + INIT_CYCLE) % PER_EACH_CYCLE == 0:\n",
        "        signal_strengths.append(cycle * register_value)\n",
        "    \n",
        "    register_value += v\n",
        "\n",
        "\n",
        "for line in range(0, len(crt_row), CRT_WIDE):\n",
        "    print(crt_row[line:line+ CRT_WIDE])\n",
        "\n",
        "    "
      ],
      "outputs": [
        {
          "output_type": "stream",
          "name": "stdout",
          "text": [
            "####..##..###...##....##.####...##.####.\n",
            "...#.#..#.#..#.#..#....#.#.......#....#.\n",
            "..#..#....###..#..#....#.###.....#...#..\n",
            ".#...#....#..#.####....#.#.......#..#...\n",
            "#....#..#.#..#.#..#.#..#.#....#..#.#....\n",
            "####..##..###..#..#..##..#.....##..####.\n"
          ]
        }
      ],
      "metadata": {
        "trusted": true
      }
    }
  ]
}